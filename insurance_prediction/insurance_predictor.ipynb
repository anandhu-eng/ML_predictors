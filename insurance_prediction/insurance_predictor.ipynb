{
 "cells": [
  {
   "cell_type": "code",
   "execution_count": null,
   "metadata": {},
   "outputs": [],
   "source": [
    "import pandas as pd\n",
    "from sklearn.linear_model import LinearRegression\n",
    "from sklearn.model_selection import train_test_split\n",
    "from sklearn.metrics import confusion_matrix, accuracy_score\n",
    "import seaborn as sns\n",
    "import matplotlib.pyplot as plt\n",
    "import numpy as np\n",
    "import math"
   ]
  },
  {
   "cell_type": "code",
   "execution_count": null,
   "metadata": {},
   "outputs": [],
   "source": [
    "dataset = pd.read_csv(\"archive/insurance.csv\")\n",
    "dataset = pd.DataFrame(dataset)\n",
    "\n",
    "#removing the outliers\n",
    "# sns.boxplot(y='bmi',data=dataset)\n",
    "# plt.xticks(rotation=90)\n",
    "# sns.boxplot(y='charges', data=dataset)\n",
    "# plt.xticks(rotation=90)\n",
    "outlier_bmi = list(np.where(dataset['bmi']>45))\n",
    "outlier_charges = list(np.where(dataset['charges']>35000))\n",
    "dataset = dataset[dataset.bmi<45]\n",
    "dataset = dataset[dataset.charges<23000]\n",
    "# sns.boxplot(y='bmi',data=dataset)\n",
    "# plt.xticks(rotation=90)\n",
    "# sns.boxplot(y='children', data=dataset)\n",
    "# plt.xticks(rotation=90)\n",
    "\n",
    "non_determinant = dataset[[\"age\",\"bmi\",\"children\",\"smoker\"]]\n",
    "determinant = dataset[\"charges\"]\n",
    "dataset.isnull().sum().sort_values(ascending=False)/dataset.shape[0]"
   ]
  },
  {
   "cell_type": "code",
   "execution_count": null,
   "metadata": {},
   "outputs": [],
   "source": [
    "#since string is not acceptable in linear regression function\n",
    "#values in smoker column is set to 1 if yes and 0 if no\n",
    "\n",
    "#modifiying smoker column\n",
    "non_determinant[\"smoker\"] = non_determinant[\"smoker\"].replace([\"yes\"],1)\n",
    "non_determinant[\"smoker\"] = non_determinant[\"smoker\"].replace([\"no\"],0)\n",
    "\n",
    "# non_determinant[\"region\"] = non_determinant[\"region\"].replace([\"southwest\"],1)\n",
    "# non_determinant[\"region\"] = non_determinant[\"region\"].replace([\"southeast\"],2)\n",
    "# non_determinant[\"region\"] = non_determinant[\"region\"].replace([\"northwest\"],3)\n",
    "# non_determinant[\"region\"] = non_determinant[\"region\"].replace([\"northeast\"],4)\n",
    "\n",
    "# non_determinant[\"sex\"] = non_determinant[\"sex\"].replace([\"female\"],1)\n",
    "# non_determinant[\"sex\"] = non_determinant[\"sex\"].replace([\"male\"],0)"
   ]
  },
  {
   "cell_type": "code",
   "execution_count": null,
   "metadata": {},
   "outputs": [],
   "source": [
    "X_train, X_test, y_train, y_test = train_test_split(non_determinant, determinant, random_state=0)"
   ]
  },
  {
   "cell_type": "code",
   "execution_count": null,
   "metadata": {},
   "outputs": [],
   "source": [
    "#scaling the values inbtw 0-1\n",
    "from sklearn.preprocessing import StandardScaler\n",
    "\n",
    "\n",
    "numberic_values = ['age','bmi','children']\n",
    "sc = StandardScaler()\n",
    "X_train[numberic_values]=sc.fit_transform(X_train[numberic_values])\n",
    "X_test[numberic_values]=sc.transform(X_test[numberic_values])"
   ]
  },
  {
   "cell_type": "code",
   "execution_count": null,
   "metadata": {},
   "outputs": [],
   "source": [
    "print(X_train)"
   ]
  },
  {
   "cell_type": "code",
   "execution_count": null,
   "metadata": {},
   "outputs": [],
   "source": [
    "model = LinearRegression().fit(X_train, y_train)"
   ]
  },
  {
   "cell_type": "code",
   "execution_count": null,
   "metadata": {},
   "outputs": [],
   "source": [
    "predicted = model.predict(X_test)"
   ]
  },
  {
   "cell_type": "code",
   "execution_count": null,
   "metadata": {},
   "outputs": [],
   "source": [
    "dfr = pd.DataFrame({\"Actual value\":y_test,\"Predicted value\":predicted})\n",
    "print(dfr)"
   ]
  },
  {
   "cell_type": "code",
   "execution_count": null,
   "metadata": {},
   "outputs": [],
   "source": [
    "model.score(X_test, y_test)"
   ]
  },
  {
   "cell_type": "code",
   "execution_count": null,
   "metadata": {},
   "outputs": [],
   "source": [
    "from sklearn import metrics\n",
    "\n",
    "\n",
    "print(metrics.mean_absolute_error(y_test, predicted))"
   ]
  }
 ],
 "metadata": {
  "kernelspec": {
   "display_name": "Python 3",
   "language": "python",
   "name": "python3"
  },
  "language_info": {
   "codemirror_mode": {
    "name": "ipython",
    "version": 3
   },
   "file_extension": ".py",
   "mimetype": "text/x-python",
   "name": "python",
   "nbconvert_exporter": "python",
   "pygments_lexer": "ipython3",
   "version": "3.10.6"
  },
  "orig_nbformat": 4,
  "vscode": {
   "interpreter": {
    "hash": "e7370f93d1d0cde622a1f8e1c04877d8463912d04d973331ad4851f04de6915a"
   }
  }
 },
 "nbformat": 4,
 "nbformat_minor": 2
}
