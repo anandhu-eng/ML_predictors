{
 "cells": [
  {
   "cell_type": "code",
   "execution_count": 69,
   "metadata": {},
   "outputs": [],
   "source": [
    "import pandas as pd\n",
    "from sklearn.linear_model import LinearRegression\n",
    "from sklearn.model_selection import train_test_split\n",
    "from sklearn.metrics import confusion_matrix, accuracy_score\n",
    "import seaborn as sns\n",
    "import matplotlib.pyplot as plt\n",
    "import numpy as np\n",
    "import math"
   ]
  },
  {
   "cell_type": "code",
   "execution_count": 71,
   "metadata": {},
   "outputs": [
    {
     "data": {
      "image/png": "[encoded data removed]",
      "text/plain": [
       "<Figure size 640x480 with 1 Axes>"
      ]
     },
     "metadata": {},
     "output_type": "display_data"
    }
   ],
   "source": [
    "dataset = pd.read_csv(\"archive/insurance.csv\")\n",
    "dataset = pd.DataFrame(dataset)\n",
    "\n",
    "#removing the outliers\n",
    "# sns.boxplot(y='bmi',data=dataset)\n",
    "# plt.xticks(rotation=90)\n",
    "# sns.boxplot(y='charges', data=dataset)\n",
    "# plt.xticks(rotation=90)\n",
    "outlier_bmi = list(np.where(dataset['bmi']>45))\n",
    "outlier_charges = list(np.where(dataset['charges']>35000))\n",
    "dataset = dataset[dataset.bmi<45]\n",
    "dataset = dataset[dataset.charges<23000]\n",
    "# sns.boxplot(y='bmi',data=dataset)\n",
    "# plt.xticks(rotation=90)\n",
    "sns.boxplot(y='bmi', data=dataset)\n",
    "plt.xticks(rotation=90)\n",
    "\n",
    "non_determinant = dataset[[\"age\",\"sex\",\"bmi\",\"children\",\"smoker\",\"region\"]]\n",
    "determinant = dataset[\"charges\"]"
   ]
  },
  {
   "cell_type": "code",
   "execution_count": 72,
   "metadata": {},
   "outputs": [
    {
     "name": "stderr",
     "output_type": "stream",
     "text": [
      "/tmp/ipykernel_35422/1987343359.py:7: SettingWithCopyWarning: \n",
      "A value is trying to be set on a copy of a slice from a DataFrame.\n",
      "Try using .loc[row_indexer,col_indexer] = value instead\n",
      "\n",
      "See the caveats in the documentation: https://pandas.pydata.org/pandas-docs/stable/user_guide/indexing.html#returning-a-view-versus-a-copy\n",
      "  non_determinant[\"smoker\"] = non_determinant[\"smoker\"].replace([\"yes\"],1)\n",
      "/tmp/ipykernel_35422/1987343359.py:8: SettingWithCopyWarning: \n",
      "A value is trying to be set on a copy of a slice from a DataFrame.\n",
      "Try using .loc[row_indexer,col_indexer] = value instead\n",
      "\n",
      "See the caveats in the documentation: https://pandas.pydata.org/pandas-docs/stable/user_guide/indexing.html#returning-a-view-versus-a-copy\n",
      "  non_determinant[\"smoker\"] = non_determinant[\"smoker\"].replace([\"no\"],0)\n",
      "/tmp/ipykernel_35422/1987343359.py:10: SettingWithCopyWarning: \n",
      "A value is trying to be set on a copy of a slice from a DataFrame.\n",
      "Try using .loc[row_indexer,col_indexer] = value instead\n",
      "\n",
      "See the caveats in the documentation: https://pandas.pydata.org/pandas-docs/stable/user_guide/indexing.html#returning-a-view-versus-a-copy\n",
      "  non_determinant[\"region\"] = non_determinant[\"region\"].replace([\"southwest\"],1)\n",
      "/tmp/ipykernel_35422/1987343359.py:11: SettingWithCopyWarning: \n",
      "A value is trying to be set on a copy of a slice from a DataFrame.\n",
      "Try using .loc[row_indexer,col_indexer] = value instead\n",
      "\n",
      "See the caveats in the documentation: https://pandas.pydata.org/pandas-docs/stable/user_guide/indexing.html#returning-a-view-versus-a-copy\n",
      "  non_determinant[\"region\"] = non_determinant[\"region\"].replace([\"southeast\"],2)\n",
      "/tmp/ipykernel_35422/1987343359.py:12: SettingWithCopyWarning: \n",
      "A value is trying to be set on a copy of a slice from a DataFrame.\n",
      "Try using .loc[row_indexer,col_indexer] = value instead\n",
      "\n",
      "See the caveats in the documentation: https://pandas.pydata.org/pandas-docs/stable/user_guide/indexing.html#returning-a-view-versus-a-copy\n",
      "  non_determinant[\"region\"] = non_determinant[\"region\"].replace([\"northwest\"],3)\n",
      "/tmp/ipykernel_35422/1987343359.py:13: SettingWithCopyWarning: \n",
      "A value is trying to be set on a copy of a slice from a DataFrame.\n",
      "Try using .loc[row_indexer,col_indexer] = value instead\n",
      "\n",
      "See the caveats in the documentation: https://pandas.pydata.org/pandas-docs/stable/user_guide/indexing.html#returning-a-view-versus-a-copy\n",
      "  non_determinant[\"region\"] = non_determinant[\"region\"].replace([\"northeast\"],4)\n",
      "/tmp/ipykernel_35422/1987343359.py:15: SettingWithCopyWarning: \n",
      "A value is trying to be set on a copy of a slice from a DataFrame.\n",
      "Try using .loc[row_indexer,col_indexer] = value instead\n",
      "\n",
      "See the caveats in the documentation: https://pandas.pydata.org/pandas-docs/stable/user_guide/indexing.html#returning-a-view-versus-a-copy\n",
      "  non_determinant[\"sex\"] = non_determinant[\"sex\"].replace([\"female\"],1)\n",
      "/tmp/ipykernel_35422/1987343359.py:16: SettingWithCopyWarning: \n",
      "A value is trying to be set on a copy of a slice from a DataFrame.\n",
      "Try using .loc[row_indexer,col_indexer] = value instead\n",
      "\n",
      "See the caveats in the documentation: https://pandas.pydata.org/pandas-docs/stable/user_guide/indexing.html#returning-a-view-versus-a-copy\n",
      "  non_determinant[\"sex\"] = non_determinant[\"sex\"].replace([\"male\"],0)\n"
     ]
    }
   ],
   "source": [
    "#since string is not acceptable in linear regression function\n",
    "#values in smoker column is set to 1 if yes and 0 if no\n",
    "\n",
    "#df['first_set'] = df['first_set'].replace(['Blue'], 'Green')\n",
    "\n",
    "#modifiying smoker column\n",
    "non_determinant[\"smoker\"] = non_determinant[\"smoker\"].replace([\"yes\"],1)\n",
    "non_determinant[\"smoker\"] = non_determinant[\"smoker\"].replace([\"no\"],0)\n",
    "\n",
    "non_determinant[\"region\"] = non_determinant[\"region\"].replace([\"southwest\"],1)\n",
    "non_determinant[\"region\"] = non_determinant[\"region\"].replace([\"southeast\"],2)\n",
    "non_determinant[\"region\"] = non_determinant[\"region\"].replace([\"northwest\"],3)\n",
    "non_determinant[\"region\"] = non_determinant[\"region\"].replace([\"northeast\"],4)\n",
    "\n",
    "non_determinant[\"sex\"] = non_determinant[\"sex\"].replace([\"female\"],1)\n",
    "non_determinant[\"sex\"] = non_determinant[\"sex\"].replace([\"male\"],0)"
   ]
  },
  {
   "cell_type": "code",
   "execution_count": 73,
   "metadata": {},
   "outputs": [],
   "source": [
    "X_train, X_test, y_train, y_test = train_test_split(non_determinant, determinant, random_state=0)"
   ]
  },
  {
   "cell_type": "code",
   "execution_count": 74,
   "metadata": {},
   "outputs": [
    {
     "name": "stdout",
     "output_type": "stream",
     "text": [
      "      age  sex     bmi  children  smoker  region\n",
      "673    41    1  31.020         0       0       2\n",
      "179    41    1  33.155         3       0       4\n",
      "703    34    1  26.410         1       0       3\n",
      "316    50    0  32.205         0       0       3\n",
      "1219   38    1  30.210         3       0       3\n",
      "...   ...  ...     ...       ...     ...     ...\n",
      "1263   43    1  29.900         1       0       1\n",
      "932    46    0  25.800         5       0       1\n",
      "1023   18    0  23.320         1       0       2\n",
      "691    47    0  36.200         1       0       1\n",
      "834    36    0  33.820         1       0       3\n",
      "\n",
      "[819 rows x 6 columns]\n"
     ]
    }
   ],
   "source": [
    "print(X_train)"
   ]
  },
  {
   "cell_type": "code",
   "execution_count": 75,
   "metadata": {},
   "outputs": [],
   "source": [
    "model = LinearRegression().fit(X_train, y_train)"
   ]
  },
  {
   "cell_type": "code",
   "execution_count": 76,
   "metadata": {},
   "outputs": [],
   "source": [
    "predicted = model.predict(X_test)"
   ]
  },
  {
   "cell_type": "code",
   "execution_count": 77,
   "metadata": {},
   "outputs": [
    {
     "name": "stdout",
     "output_type": "stream",
     "text": [
      "      Actual value  Predicted value\n",
      "961     3353.28400      4267.419465\n",
      "906     4846.92015      6188.784156\n",
      "913     7626.99300      8262.548720\n",
      "1208   20296.86345     20475.252695\n",
      "588    13635.63790     13168.137251\n",
      "...            ...              ...\n",
      "777     7448.40395      9469.355611\n",
      "962    14474.67500     13362.454425\n",
      "283    11879.10405     12029.178095\n",
      "1101   11253.42100     11135.788005\n",
      "229     9225.25640     10174.499141\n",
      "\n",
      "[274 rows x 2 columns]\n"
     ]
    }
   ],
   "source": [
    "dfr = pd.DataFrame({\"Actual value\":y_test,\"Predicted value\":predicted})\n",
    "print(dfr)"
   ]
  },
  {
   "cell_type": "code",
   "execution_count": 78,
   "metadata": {},
   "outputs": [
    {
     "data": {
      "text/plain": [
       "0.8000989318483113"
      ]
     },
     "execution_count": 78,
     "metadata": {},
     "output_type": "execute_result"
    }
   ],
   "source": [
    "model.score(X_test, y_test)"
   ]
  },
  {
   "cell_type": "code",
   "execution_count": 70,
   "metadata": {},
   "outputs": [
    {
     "name": "stdout",
     "output_type": "stream",
     "text": [
      "1280.6812339977448\n"
     ]
    }
   ],
   "source": [
    "from sklearn import metrics\n",
    "\n",
    "\n",
    "print(metrics.mean_absolute_error(y_test, predicted))"
   ]
  }
 ],
 "metadata": {
  "kernelspec": {
   "display_name": "Python 3",
   "language": "python",
   "name": "python3"
  },
  "language_info": {
   "codemirror_mode": {
    "name": "ipython",
    "version": 3
   },
   "file_extension": ".py",
   "mimetype": "text/x-python",
   "name": "python",
   "nbconvert_exporter": "python",
   "pygments_lexer": "ipython3",
   "version": "3.10.6"
  },
  "orig_nbformat": 4,
  "vscode": {
   "interpreter": {
    "hash": "e7370f93d1d0cde622a1f8e1c04877d8463912d04d973331ad4851f04de6915a"
   }
  }
 },
 "nbformat": 4,
 "nbformat_minor": 2
}
